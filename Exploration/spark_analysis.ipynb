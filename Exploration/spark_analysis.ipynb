{
 "cells": [
  {
   "cell_type": "code",
   "execution_count": 23,
   "metadata": {
    "collapsed": false
   },
   "outputs": [
    {
     "ename": "Unavailable",
     "evalue": "Error from server: code=1000 [Unavailable exception] message=\"Cannot achieve consistency level LOCAL_ONE\" info={'required_replicas': 1, 'alive_replicas': 0, 'consistency': 'LOCAL_ONE'}",
     "output_type": "error",
     "traceback": [
      "\u001b[1;31m---------------------------------------------------------------------------\u001b[0m",
      "\u001b[1;31mUnavailable\u001b[0m                               Traceback (most recent call last)",
      "\u001b[1;32m<ipython-input-23-124b30d5e3b9>\u001b[0m in \u001b[0;36m<module>\u001b[1;34m()\u001b[0m\n\u001b[0;32m      6\u001b[0m \u001b[1;33m\u001b[0m\u001b[0m\n\u001b[0;32m      7\u001b[0m \u001b[1;31m#execute a select query against the twitter_final.tweets_etl table\u001b[0m\u001b[1;33m\u001b[0m\u001b[1;33m\u001b[0m\u001b[0m\n\u001b[1;32m----> 8\u001b[1;33m \u001b[0mrows\u001b[0m \u001b[1;33m=\u001b[0m \u001b[0msession\u001b[0m\u001b[1;33m.\u001b[0m\u001b[0mexecute\u001b[0m\u001b[1;33m(\u001b[0m\u001b[1;34m'SELECT * FROM tweets_etl limit 5'\u001b[0m\u001b[1;33m)\u001b[0m\u001b[1;33m\u001b[0m\u001b[0m\n\u001b[0m\u001b[0;32m      9\u001b[0m \u001b[1;33m\u001b[0m\u001b[0m\n\u001b[0;32m     10\u001b[0m \u001b[1;32mfor\u001b[0m \u001b[0mrow\u001b[0m \u001b[1;32min\u001b[0m \u001b[0mrows\u001b[0m\u001b[1;33m:\u001b[0m\u001b[1;33m\u001b[0m\u001b[0m\n",
      "\u001b[1;32m/home/mids/anaconda2/lib/python2.7/site-packages/cassandra/cluster.so\u001b[0m in \u001b[0;36mcassandra.cluster.Session.execute (cassandra/cluster.c:33642)\u001b[1;34m()\u001b[0m\n",
      "\u001b[1;32m/home/mids/anaconda2/lib/python2.7/site-packages/cassandra/cluster.so\u001b[0m in \u001b[0;36mcassandra.cluster.ResponseFuture.result (cassandra/cluster.c:69369)\u001b[1;34m()\u001b[0m\n",
      "\u001b[1;31mUnavailable\u001b[0m: Error from server: code=1000 [Unavailable exception] message=\"Cannot achieve consistency level LOCAL_ONE\" info={'required_replicas': 1, 'alive_replicas': 0, 'consistency': 'LOCAL_ONE'}"
     ]
    }
   ],
   "source": [
    "# import the cluster\n",
    "from cassandra.cluster import Cluster\n",
    "\n",
    "cluster = Cluster(['192.155.215.14'])\n",
    "session = cluster.connect('twitter_final')\n",
    "\n",
    "#execute a select query against the twitter_final.tweets_etl table\n",
    "rows = session.execute('SELECT * FROM tweets_etl limit 5')\n",
    "\n",
    "for row in rows:\n",
    "    print row.log_time\n",
    "\n"
   ]
  },
  {
   "cell_type": "code",
   "execution_count": 28,
   "metadata": {
    "collapsed": false
   },
   "outputs": [
    {
     "name": "stdout",
     "output_type": "stream",
     "text": [
      "Tweet Languages Eastern Timezone\n",
      "Total # Tweets:100005\n",
      "\n",
      "[(u'sr', 2), (u'is', 13), (u'el', 8), (u'fr', 619), (u'bg', 1), (u'ko', 194), (u'ur', 10), (u'lv', 13), (u'cy', 203), (u'hr', 9), (u'fi', 30), (u'hi', 5), (u'iu', 1), (u'in', 362), (u'en', 78916), (u'pt', 477), (u'vi', 17), (u'it', 149), (u'lt', 22), (u'sl', 34), (u'et', 79), (u'ru', 42), (u'de', 150), (u'ne', 4), (u'iw', 1), (u'sv', 42), (u'fa', 11), (u'tl', 348), (u'pl', 56), (u'nl', 85), (u'sk', 36), (u'ar', 154), (u'ja', 191), (u'ta', 1), (u'ro', 56), (u'uk', 7), (u'ht', 274), (u'es', 9398), (u'da', 56), (u'hu', 18), (u'und', 6607), (u'th', 19), (u'no', 25), (u'tr', 143), (u'zh', 35), (u'bs', 38)]\n",
      "\n",
      "Tweet Languages Mountain Timezone\n",
      "Total # Tweets:100005\n",
      "\n",
      "[(u'en', 67548), (u'bn', 27), (u'lt', 22), (u'hi', 3), (u'pl', 54), (u'ro', 61), (u'es', 20337), (u'vi', 14), (u'ru', 431), (u'ar', 178), (u'no', 28), (u'bg', 6), (u'zh', 17), (u'fi', 38), (u'cy', 64), (u'tl', 388), (u'pt', 513), (u'sv', 38), (u'sl', 28), (u'is', 11), (u'de', 151), (u'ht', 279), (u'fa', 8), (u'bs', 15), (u'et', 94), (u'ja', 208), (u'hu', 49), (u'sk', 56), (u'und', 6607), (u'tr', 103), (u'uk', 14), (u'fr', 258), (u'nl', 83), (u'hr', 10), (u'it', 154), (u'ne', 15), (u'lv', 18), (u'th', 113), (u'sr', 1), (u'ko', 134), (u'da', 54), (u'si', 1), (u'in', 528), (u'ur', 17)]\n",
      "\n",
      "Tweet Languages Pacific Timezone\n",
      "Total # Tweets:100005\n",
      "\n",
      "[(u'lv', 31), (u'hy', 1), (u'ckb', 1), (u'vi', 69), (u'de', 286), (u'ne', 13), (u'fa', 34), (u'ja', 6213), (u'ta', 13), (u'nl', 163), (u'uk', 15), (u'ko', 2926), (u'is', 17), (u'tr', 1999), (u'ht', 262), (u'sk', 66), (u'lt', 26), (u'th', 9176), (u'pl', 161), (u'ml', 1), (u'ro', 67), (u'hu', 18), (u'zh', 60), (u'iu', 2), (u'si', 2), (u'km', 1), (u'chr', 8), (u'es', 3346), (u'el', 20), (u'no', 51), (u'sr', 3), (u'it', 421), (u'da', 67), (u'ar', 3903), (u'in', 6500), (u'ur', 38), (u'fr', 982), (u'hr', 8), (u'bn', 2), (u'iw', 2), (u'und', 5385), (u'ug', 1), (u'ru', 469), (u'hi', 68), (u'en', 50631), (u'te', 2), (u'cy', 52), (u'tl', 2932), (u'pt', 1572), (u'bg', 9), (u'sl', 93), (u'sv', 66), (u'bs', 21), (u'fi', 47), (u'et', 193)]\n"
     ]
    }
   ],
   "source": [
    "import os\n",
    "from operator import add\n",
    "script_dir = os.getcwd()\n",
    "\n",
    "est_rel_path = \"../tweets_est.psv\"\n",
    "mst_rel_path = \"../tweets_mst.psv\"\n",
    "pst_rel_path = \"../tweets_pst.psv\"\n",
    "\n",
    "est_abs_file_path = os.path.join(script_dir, est_rel_path)\n",
    "mst_abs_file_path = os.path.join(script_dir, mst_rel_path)\n",
    "pst_abs_file_path = os.path.join(script_dir, pst_rel_path)\n",
    "\n",
    "\n",
    "def getLang(line):\n",
    "    line = line.strip('\\n')\n",
    "    fields =line.split('|')\n",
    "\n",
    "    if 10 == len(fields) :\n",
    "        \n",
    "        val = fields[8]\n",
    "        val = val.lstrip()\n",
    "        lang= val.rstrip()\n",
    "        if lang == 'lang':\n",
    "            return ''\n",
    "        return lang\n",
    "    return ''\n",
    "            \n",
    "        \n",
    "estrdd = sc.textFile(est_abs_file_path)\n",
    "estdictrdd = estrdd.map(lambda line: (getLang(line), 1)).reduceByKey(add)\n",
    "\n",
    "print 'Tweet Languages Eastern Timezone' \n",
    "print 'Total # Tweets:%d' %(estrdd.count())\n",
    "print\n",
    "print estdictrdd.filter(lambda x: x[0] != '').collect()\n",
    "print\n",
    "\n",
    " \n",
    "print 'Tweet Languages Mountain Timezone'\n",
    "mstrdd     = sc.textFile(mst_abs_file_path)\n",
    "mstdictrdd = mstrdd.map(lambda line: (getLang(line), 1)).reduceByKey(add)\n",
    " \n",
    "print 'Total # Tweets:%d' %(mstrdd.count())\n",
    "print\n",
    "print mstdictrdd.filter(lambda x: x[0]!= '').collect()\n",
    "print\n",
    "\n",
    "  \n",
    "\n",
    "print 'Tweet Languages Pacific Timezone'\n",
    "pstrdd     = sc.textFile(pst_abs_file_path)\n",
    "pstdictrdd = pstrdd.map(lambda line: (getLang(line), 1)).reduceByKey(add)\n",
    " \n",
    "print 'Total # Tweets:%d' %(pstrdd.count())\n",
    "print\n",
    "print pstdictrdd.filter(lambda x: x[0] != '').collect()\n",
    "\n",
    "\n",
    "\n",
    "    \n",
    "\n",
    "\n",
    "\n",
    "        \n"
   ]
  }
 ],
 "metadata": {
  "kernelspec": {
   "display_name": "Python [Root]",
   "language": "python",
   "name": "Python [Root]"
  },
  "language_info": {
   "codemirror_mode": {
    "name": "ipython",
    "version": 2
   },
   "file_extension": ".py",
   "mimetype": "text/x-python",
   "name": "python",
   "nbconvert_exporter": "python",
   "pygments_lexer": "ipython2",
   "version": "2.7.12"
  }
 },
 "nbformat": 4,
 "nbformat_minor": 0
}
