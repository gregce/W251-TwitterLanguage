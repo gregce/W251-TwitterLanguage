{
 "cells": [
  {
   "cell_type": "markdown",
   "metadata": {},
   "source": [
    "### Hiya, please read the following two docs before continuing:\n",
    "\n",
    "- Data Stax's CQL Ref: https://docs.datastax.com/en/cql/3.1/cql/cql_reference/create_index_r.html\n",
    "- Intro to the cassandra driver: http://datastax.github.io/python-driver/getting_started.html\n",
    "\n",
    "***IMPORTANT*** Only ever run SELECT QUERIES AGAINST THE DATABASE"
   ]
  },
  {
   "cell_type": "code",
   "execution_count": 7,
   "metadata": {
    "collapsed": false
   },
   "outputs": [
    {
     "ename": "Unavailable",
     "evalue": "Error from server: code=1000 [Unavailable exception] message=\"Cannot achieve consistency level LOCAL_ONE\" info={'required_replicas': 1, 'alive_replicas': 0, 'consistency': 'LOCAL_ONE'}",
     "output_type": "error",
     "traceback": [
      "\u001b[1;31m----------------------------------------------------------------\u001b[0m",
      "\u001b[1;31mUnavailable\u001b[0m                    Traceback (most recent call last)",
      "\u001b[1;32m<ipython-input-7-5cec7c5d5051>\u001b[0m in \u001b[0;36m<module>\u001b[1;34m()\u001b[0m\n\u001b[0;32m      6\u001b[0m \u001b[1;33m\u001b[0m\u001b[0m\n\u001b[0;32m      7\u001b[0m \u001b[1;31m#execute a select query against the twitter_final.tweets_etl table\u001b[0m\u001b[1;33m\u001b[0m\u001b[1;33m\u001b[0m\u001b[0m\n\u001b[1;32m----> 8\u001b[1;33m \u001b[0mrows\u001b[0m \u001b[1;33m=\u001b[0m \u001b[0msession\u001b[0m\u001b[1;33m.\u001b[0m\u001b[0mexecute\u001b[0m\u001b[1;33m(\u001b[0m\u001b[1;34m'SELECT * FROM tweets_etl'\u001b[0m\u001b[1;33m)\u001b[0m\u001b[1;33m\u001b[0m\u001b[0m\n\u001b[0m\u001b[0;32m      9\u001b[0m \u001b[1;32mfor\u001b[0m \u001b[0mrow\u001b[0m \u001b[1;32min\u001b[0m \u001b[0mrows\u001b[0m\u001b[1;33m:\u001b[0m\u001b[1;33m\u001b[0m\u001b[0m\n\u001b[0;32m     10\u001b[0m     \u001b[1;32mprint\u001b[0m \u001b[0mrow\u001b[0m\u001b[1;33m.\u001b[0m\u001b[0mlog_time\u001b[0m\u001b[1;33m,\u001b[0m \u001b[0mrow\u001b[0m\u001b[1;33m.\u001b[0m\u001b[0mfile\u001b[0m\u001b[1;33m,\u001b[0m \u001b[0mrow\u001b[0m\u001b[1;33m.\u001b[0m\u001b[0mread_tweets\u001b[0m\u001b[1;33m,\u001b[0m \u001b[0mrow\u001b[0m\u001b[1;33m.\u001b[0m\u001b[0mtime_elapsed\u001b[0m\u001b[1;33m,\u001b[0m \u001b[0mrow\u001b[0m\u001b[1;33m.\u001b[0m\u001b[0mwritten_tweets\u001b[0m\u001b[1;33m\u001b[0m\u001b[0m\n",
      "\u001b[1;32m/home/mids/anaconda2/lib/python2.7/site-packages/cassandra/cluster.so\u001b[0m in \u001b[0;36mcassandra.cluster.Session.execute (cassandra/cluster.c:33642)\u001b[1;34m()\u001b[0m\n",
      "\u001b[1;32m/home/mids/anaconda2/lib/python2.7/site-packages/cassandra/cluster.so\u001b[0m in \u001b[0;36mcassandra.cluster.ResponseFuture.result (cassandra/cluster.c:69369)\u001b[1;34m()\u001b[0m\n",
      "\u001b[1;31mUnavailable\u001b[0m: Error from server: code=1000 [Unavailable exception] message=\"Cannot achieve consistency level LOCAL_ONE\" info={'required_replicas': 1, 'alive_replicas': 0, 'consistency': 'LOCAL_ONE'}"
     ]
    }
   ],
   "source": [
    "# import the cluster\n",
    "from cassandra.cluster import Cluster\n",
    "\n",
    "cluster = Cluster(['192.155.215.14'])\n",
    "session = cluster.connect('twitter_final')\n",
    "\n",
    "#execute a select query against the twitter_final.tweets_etl table\n",
    "rows = session.execute('SELECT * FROM tweets_etl')\n",
    "for row in rows:\n",
    "    print row.log_time, row.file, row.read_tweets, row.time_elapsed, row.written_tweets"
   ]
  },
  {
   "cell_type": "markdown",
   "metadata": {},
   "source": [
    "## Remember, below is the data schema... \n",
    "Try and filter your select statements or else you likely timeout when you try to query.\n",
    "\n",
    "```\n",
    "CREATE TABLE twitter_final.tweets (\n",
    "    id bigint,\n",
    "    timestamp timestamp,\n",
    "    user varchar,\n",
    "    text varchar,\n",
    "    lang varchar,\n",
    "    followers_count bigint,\n",
    "    friends_count bigint,\n",
    "    time_zone varchar,\n",
    "    entities varchar,\n",
    "    file varchar,\n",
    "    PRIMARY KEY(time_zone, timestamp, user)\n",
    ");\n",
    "\n",
    "CREATE TABLE twitter_final.tweets_etl (\n",
    "    log_time varchar PRIMARY KEY,\n",
    "    file varchar,\n",
    "    time_elapsed float,\n",
    "    read_tweets bigint,\n",
    "    written_tweets bigint\n",
    ");\n",
    "```"
   ]
  },
  {
   "cell_type": "code",
   "execution_count": 5,
   "metadata": {
    "collapsed": false
   },
   "outputs": [
    {
     "name": "stdout",
     "output_type": "stream",
     "text": [
      "2015-06-01 20:09:05.666000\n",
      "2015-06-01 21:12:46.663000\n",
      "2015-06-01 21:24:00.658000\n",
      "2015-06-01 22:08:14.665000\n",
      "2015-06-01 23:10:48.657000\n",
      "2015-06-01 23:21:34.661000\n",
      "2015-06-02 00:57:49.663000\n",
      "2015-06-02 01:40:11.665000\n",
      "2015-06-02 17:01:58.658000\n",
      "2015-06-02 19:02:14.664000\n"
     ]
    }
   ],
   "source": [
    "# VALID TIME ZONES http://api.rubyonrails.org/classes/ActiveSupport/TimeZone.html\n",
    "\n",
    "#modify timeout, http://datastax.github.io/python-driver/api/cassandra/cluster.html#cassandra.cluster.Session.execute\n",
    "\n",
    "rows = session.execute(\"select count(*) as cnt from tweets where time_zone = 'Eastern Time (US & Canada)'\",timeout=3600)\n",
    "for row in rows:\n",
    "    print row.cnt"
   ]
  },
  {
   "cell_type": "code",
   "execution_count": 9,
   "metadata": {
    "collapsed": false
   },
   "outputs": [
    {
     "data": {
      "text/plain": [
       "<pyspark.context.SparkContext at 0x7f208575b410>"
      ]
     },
     "execution_count": 9,
     "metadata": {},
     "output_type": "execute_result"
    }
   ],
   "source": [
    "sc"
   ]
  }
 ],
 "metadata": {
  "kernelspec": {
   "display_name": "Python [Root]",
   "language": "python",
   "name": "Python [Root]"
  },
  "language_info": {
   "codemirror_mode": {
    "name": "ipython",
    "version": 2
   },
   "file_extension": ".py",
   "mimetype": "text/x-python",
   "name": "python",
   "nbconvert_exporter": "python",
   "pygments_lexer": "ipython2",
   "version": "2.7.12"
  }
 },
 "nbformat": 4,
 "nbformat_minor": 0
}
